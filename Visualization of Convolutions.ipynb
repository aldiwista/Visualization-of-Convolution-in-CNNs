{
 "cells": [
  {
   "cell_type": "code",
   "execution_count": 1,
   "metadata": {},
   "outputs": [],
   "source": [
    "import tensorflow as tf"
   ]
  },
  {
   "cell_type": "code",
   "execution_count": 8,
   "metadata": {},
   "outputs": [],
   "source": [
    "mnist = tf.keras.datasets.fashion_mnist\n",
    "(training_images, training_labels), (val_images, val_labels) = mnist.load_data()\n",
    "\n",
    "training_images = training_images.reshape(60000, 28, 28,1)\n",
    "training_images = training_images/255.0\n",
    "\n",
    "val_images = val_images.reshape(10000, 28, 28, 1)\n",
    "val_images = val_images/255.0\n"
   ]
  },
  {
   "cell_type": "code",
   "execution_count": 12,
   "metadata": {},
   "outputs": [],
   "source": [
    "model = tf.keras.models.Sequential([\n",
    "    tf.keras.layers.Conv2D(64, (3,3), activation='relu', input_shape=(28,28,1)),\n",
    "    tf.keras.layers.MaxPooling2D(2,2),\n",
    "    tf.keras.layers.Conv2D(64, (3,3), activation='relu'),\n",
    "    tf.keras.layers.MaxPooling2D(2,2),\n",
    "    tf.keras.layers.Flatten(),\n",
    "    tf.keras.layers.Dense(20, activation='relu'),\n",
    "    tf.keras.layers.Dense(10, activation='softmax')\n",
    "    \n",
    "]\n",
    ")"
   ]
  },
  {
   "cell_type": "code",
   "execution_count": 13,
   "metadata": {},
   "outputs": [
    {
     "name": "stdout",
     "output_type": "stream",
     "text": [
      "Model: \"sequential_2\"\n",
      "_________________________________________________________________\n",
      "Layer (type)                 Output Shape              Param #   \n",
      "=================================================================\n",
      "conv2d_5 (Conv2D)            (None, 26, 26, 64)        640       \n",
      "_________________________________________________________________\n",
      "max_pooling2d_5 (MaxPooling2 (None, 13, 13, 64)        0         \n",
      "_________________________________________________________________\n",
      "conv2d_6 (Conv2D)            (None, 11, 11, 64)        36928     \n",
      "_________________________________________________________________\n",
      "max_pooling2d_6 (MaxPooling2 (None, 5, 5, 64)          0         \n",
      "_________________________________________________________________\n",
      "flatten (Flatten)            (None, 1600)              0         \n",
      "_________________________________________________________________\n",
      "dense_4 (Dense)              (None, 20)                32020     \n",
      "_________________________________________________________________\n",
      "dense_5 (Dense)              (None, 10)                210       \n",
      "=================================================================\n",
      "Total params: 69,798\n",
      "Trainable params: 69,798\n",
      "Non-trainable params: 0\n",
      "_________________________________________________________________\n"
     ]
    }
   ],
   "source": [
    "model.compile(optimizer='adam', loss='sparse_categorical_crossentropy', metrics=['accuracy']\n",
    "             )\n",
    "model.summary()"
   ]
  },
  {
   "cell_type": "code",
   "execution_count": 15,
   "metadata": {
    "scrolled": true
   },
   "outputs": [
    {
     "name": "stdout",
     "output_type": "stream",
     "text": [
      "Epoch 1/20\n",
      "1875/1875 [==============================] - 141s 75ms/step - loss: 0.3237 - accuracy: 0.8817 - val_loss: 0.3403 - val_accuracy: 0.8810\n",
      "Epoch 2/20\n",
      "1875/1875 [==============================] - 131s 70ms/step - loss: 0.2808 - accuracy: 0.8976 - val_loss: 0.2980 - val_accuracy: 0.8891\n",
      "Epoch 3/20\n",
      "1875/1875 [==============================] - 131s 70ms/step - loss: 0.2507 - accuracy: 0.9087 - val_loss: 0.2827 - val_accuracy: 0.8964\n",
      "Epoch 4/20\n",
      "1875/1875 [==============================] - 132s 70ms/step - loss: 0.2283 - accuracy: 0.9165 - val_loss: 0.2814 - val_accuracy: 0.8994\n",
      "Epoch 5/20\n",
      "1875/1875 [==============================] - 132s 70ms/step - loss: 0.2098 - accuracy: 0.9227 - val_loss: 0.2734 - val_accuracy: 0.8988\n",
      "Epoch 6/20\n",
      "1875/1875 [==============================] - 126s 67ms/step - loss: 0.1957 - accuracy: 0.9280 - val_loss: 0.2658 - val_accuracy: 0.9026\n",
      "Epoch 7/20\n",
      "1875/1875 [==============================] - 122s 65ms/step - loss: 0.1810 - accuracy: 0.9338 - val_loss: 0.3119 - val_accuracy: 0.8875\n",
      "Epoch 8/20\n",
      "1875/1875 [==============================] - 119s 64ms/step - loss: 0.1696 - accuracy: 0.9363 - val_loss: 0.2734 - val_accuracy: 0.9014\n",
      "Epoch 9/20\n",
      "1875/1875 [==============================] - 118s 63ms/step - loss: 0.1580 - accuracy: 0.9420 - val_loss: 0.3120 - val_accuracy: 0.8971\n",
      "Epoch 10/20\n",
      "1875/1875 [==============================] - 119s 64ms/step - loss: 0.1475 - accuracy: 0.9449 - val_loss: 0.2734 - val_accuracy: 0.9085\n",
      "Epoch 11/20\n",
      "1875/1875 [==============================] - 118s 63ms/step - loss: 0.1368 - accuracy: 0.9490 - val_loss: 0.2912 - val_accuracy: 0.9061\n",
      "Epoch 12/20\n",
      "1875/1875 [==============================] - 119s 64ms/step - loss: 0.1297 - accuracy: 0.9516 - val_loss: 0.3086 - val_accuracy: 0.9024 - accuracy: 0.95\n",
      "Epoch 13/20\n",
      "1875/1875 [==============================] - 118s 63ms/step - loss: 0.1219 - accuracy: 0.9543 - val_loss: 0.3134 - val_accuracy: 0.9077\n",
      "Epoch 14/20\n",
      "1875/1875 [==============================] - 120s 64ms/step - loss: 0.1127 - accuracy: 0.9578 - val_loss: 0.3435 - val_accuracy: 0.9038\n",
      "Epoch 15/20\n",
      "1875/1875 [==============================] - 118s 63ms/step - loss: 0.1082 - accuracy: 0.9592 - val_loss: 0.3108 - val_accuracy: 0.9083\n",
      "Epoch 16/20\n",
      "1875/1875 [==============================] - 119s 64ms/step - loss: 0.1012 - accuracy: 0.9628 - val_loss: 0.3568 - val_accuracy: 0.9001\n",
      "Epoch 17/20\n",
      "1875/1875 [==============================] - 136s 72ms/step - loss: 0.0959 - accuracy: 0.9645 - val_loss: 0.3427 - val_accuracy: 0.9079\n",
      "Epoch 18/20\n",
      "1875/1875 [==============================] - 131s 70ms/step - loss: 0.0901 - accuracy: 0.9668 - val_loss: 0.3609 - val_accuracy: 0.9017\n",
      "Epoch 19/20\n",
      "1875/1875 [==============================] - 132s 71ms/step - loss: 0.0826 - accuracy: 0.9689 - val_loss: 0.3744 - val_accuracy: 0.9063\n",
      "Epoch 20/20\n",
      "1875/1875 [==============================] - 132s 70ms/step - loss: 0.0814 - accuracy: 0.9695 - val_loss: 0.3867 - val_accuracy: 0.9055\n"
     ]
    },
    {
     "data": {
      "text/plain": [
       "<tensorflow.python.keras.callbacks.History at 0x26cc8c60a60>"
      ]
     },
     "execution_count": 15,
     "metadata": {},
     "output_type": "execute_result"
    }
   ],
   "source": [
    "model.fit(training_images, training_labels, validation_data = (val_images,val_labels), epochs=20)"
   ]
  },
  {
   "cell_type": "code",
   "execution_count": 16,
   "metadata": {},
   "outputs": [
    {
     "name": "stdout",
     "output_type": "stream",
     "text": [
      "[9 2 1 1 6 1 4 6 5 7 4 5 7 3 4 1 2 4 8 0 2 5 7 9 1 4 6 0 9 3 8 8 3 3 8 0 7\n",
      " 5 7 9 6 1 3 7 6 7 2 1 2 2 4 4 5 8 2 2 8 4 8 0 7 7 8 5 1 1 2 3 9 8 7 0 2 6\n",
      " 2 3 1 2 8 4 1 8 5 9 5 0 3 2 0 6 5 3 6 7 1 8 0 1 4 2]\n"
     ]
    }
   ],
   "source": [
    "print(val_labels[:100])"
   ]
  },
  {
   "cell_type": "code",
   "execution_count": 17,
   "metadata": {},
   "outputs": [],
   "source": [
    "import matplotlib.pyplot as plt"
   ]
  },
  {
   "cell_type": "code",
   "execution_count": 18,
   "metadata": {},
   "outputs": [],
   "source": [
    "def show_image(img):\n",
    "    plt.grid('False')\n",
    "    plt.figure()\n",
    "    plt.imshow(val_images[img].reshape(28,28))\n",
    "    plt.show()"
   ]
  },
  {
   "cell_type": "code",
   "execution_count": 20,
   "metadata": {},
   "outputs": [],
   "source": [
    "#I try to look at the process for images that has similar label. Which are 2,3 and 5. all of them have label 1\n",
    "FIRST_IMAGE = 2\n",
    "SECOND_IMAGE = 3\n",
    "THIRD_IMAGE = 5"
   ]
  },
  {
   "cell_type": "code",
   "execution_count": 27,
   "metadata": {},
   "outputs": [
    {
     "data": {
      "image/png": "[encoded data removed]",
      "text/plain": [
       "<Figure size 432x288 with 6 Axes>"
      ]
     },
     "metadata": {
      "needs_background": "light"
     },
     "output_type": "display_data"
    },
    {
     "data": {
      "image/png": "[encoded data removed]",
      "text/plain": [
       "<Figure size 432x288 with 1 Axes>"
      ]
     },
     "metadata": {
      "needs_background": "light"
     },
     "output_type": "display_data"
    },
    {
     "data": {
      "image/png": "[encoded data removed]",
      "text/plain": [
       "<Figure size 432x288 with 1 Axes>"
      ]
     },
     "metadata": {
      "needs_background": "light"
     },
     "output_type": "display_data"
    },
    {
     "data": {
      "image/png": "[encoded data removed]",
      "text/plain": [
       "<Figure size 432x288 with 1 Axes>"
      ]
     },
     "metadata": {
      "needs_background": "light"
     },
     "output_type": "display_data"
    },
    {
     "data": {
      "image/png": "[encoded data removed]",
      "text/plain": [
       "<Figure size 432x288 with 1 Axes>"
      ]
     },
     "metadata": {
      "needs_background": "light"
     },
     "output_type": "display_data"
    },
    {
     "data": {
      "image/png": "[encoded data removed]",
      "text/plain": [
       "<Figure size 432x288 with 1 Axes>"
      ]
     },
     "metadata": {
      "needs_background": "light"
     },
     "output_type": "display_data"
    }
   ],
   "source": [
    "f,axarr = plt.subplots(3,2)\n",
    "CONVOLUTION_NUMBER =1\n",
    "layer_outputs = [layer.output for layer in model.layers]\n",
    "activation_model = tf.keras.models.Model(inputs = model.input, outputs = layer_outputs)\n",
    "for x in range(0,2):\n",
    "    f1 = activation_model.predict(val_images[FIRST_IMAGE].reshape(1, 28,28,1))[x]\n",
    "    axarr[0,x].imshow(f1[0,:,:,CONVOLUTION_NUMBER], cmap='inferno')\n",
    "    axarr[0,x].grid(False)\n",
    "    f2 = activation_model.predict(val_images[SECOND_IMAGE].reshape(1, 28, 28, 1))[x]\n",
    "    axarr[1,x].imshow(f2[0,:,:,CONVOLUTION_NUMBER], cmap='inferno')\n",
    "    axarr[1,x].grid(False)\n",
    "    f3 = activation_model.predict(val_images[THIRD_IMAGE].reshape(1, 28, 28, 1))[x]\n",
    "    axarr[2,x].imshow(f3[0, :,:, CONVOLUTION_NUMBER], cmap='inferno')\n",
    "    axarr[2,x].grid(False)\n",
    "\n",
    "show_image(FIRST_IMAGE)\n",
    "show_image(SECOND_IMAGE)\n",
    "show_image(THIRD_IMAGE)"
   ]
  },
  {
   "cell_type": "code",
   "execution_count": null,
   "metadata": {},
   "outputs": [],
   "source": []
  }
 ],
 "metadata": {
  "kernelspec": {
   "display_name": "Python 3",
   "language": "python",
   "name": "python3"
  },
  "language_info": {
   "codemirror_mode": {
    "name": "ipython",
    "version": 3
   },
   "file_extension": ".py",
   "mimetype": "text/x-python",
   "name": "python",
   "nbconvert_exporter": "python",
   "pygments_lexer": "ipython3",
   "version": "3.8.3"
  }
 },
 "nbformat": 4,
 "nbformat_minor": 4
}
